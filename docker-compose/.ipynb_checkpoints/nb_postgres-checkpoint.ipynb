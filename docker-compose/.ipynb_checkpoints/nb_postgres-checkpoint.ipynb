{
 "cells": [
  {
   "cell_type": "code",
   "execution_count": 3,
   "id": "e992dd1d-77d5-4d55-be59-6fd74d9910d8",
   "metadata": {},
   "outputs": [],
   "source": [
    "# !pip install pandas"
   ]
  },
  {
   "cell_type": "code",
   "execution_count": 4,
   "id": "68866839-455f-4201-ab27-ac4272a65971",
   "metadata": {},
   "outputs": [],
   "source": [
    "# !pip install matplotlib"
   ]
  },
  {
   "cell_type": "code",
   "execution_count": 6,
   "id": "7d52213a-bd8e-422a-ba02-b1cb7ae26375",
   "metadata": {},
   "outputs": [],
   "source": [
    "# pip install psycopg2-binary"
   ]
  },
  {
   "cell_type": "code",
   "execution_count": 7,
   "id": "0f5d748e-ec71-42a4-ba5f-76b62073fbf9",
   "metadata": {},
   "outputs": [],
   "source": [
    "import pandas as pd\n",
    "import matplotlib.pyplot as plt\n",
    "import psycopg2"
   ]
  },
  {
   "cell_type": "code",
   "execution_count": 13,
   "id": "9120d3d9-4ea6-4173-9ac3-41202beff841",
   "metadata": {},
   "outputs": [],
   "source": [
    "conn = psycopg2.connect(\n",
    "    host=\"postgres\",\n",
    "    database=\"basededatos\",\n",
    "    user=\"usuario\",\n",
    "    password=\"contraseña\",\n",
    "    port=5432\n",
    ")"
   ]
  },
  {
   "cell_type": "code",
   "execution_count": 10,
   "id": "439adc53-4ee7-44cd-84d8-4d0db78e717d",
   "metadata": {},
   "outputs": [],
   "source": [
    "cur = conn.cursor()\n",
    "\n",
    "# Crear tabla\n",
    "cur.execute(\"\"\"\n",
    "    CREATE TABLE IF NOT EXISTS ventas (\n",
    "        id SERIAL PRIMARY KEY,\n",
    "        producto VARCHAR(50),\n",
    "        cantidad INT,\n",
    "        precio DECIMAL\n",
    "    )\n",
    "\"\"\")\n",
    "\n",
    "# Insertar datos\n",
    "cur.execute(\"\"\"\n",
    "    INSERT INTO ventas (producto, cantidad, precio) VALUES\n",
    "    ('Manzanas', 10, 0.5),\n",
    "    ('Naranjas', 5, 0.7),\n",
    "    ('Peras', 8, 0.6)\n",
    "\"\"\")\n",
    "\n",
    "conn.commit()\n",
    "cur.close()"
   ]
  },
  {
   "cell_type": "code",
   "execution_count": 11,
   "id": "077cde1f-2e68-44dc-a675-5419947ef738",
   "metadata": {},
   "outputs": [
    {
     "name": "stderr",
     "output_type": "stream",
     "text": [
      "/tmp/ipykernel_236/2172383197.py:1: UserWarning: pandas only supports SQLAlchemy connectable (engine/connection) or database string URI or sqlite3 DBAPI2 connection. Other DBAPI2 objects are not tested. Please consider using SQLAlchemy.\n",
      "  pd.read_sql_query(\"SELECT * FROM ventas\", con=conn)\n"
     ]
    },
    {
     "data": {
      "text/html": [
       "<div>\n",
       "<style scoped>\n",
       "    .dataframe tbody tr th:only-of-type {\n",
       "        vertical-align: middle;\n",
       "    }\n",
       "\n",
       "    .dataframe tbody tr th {\n",
       "        vertical-align: top;\n",
       "    }\n",
       "\n",
       "    .dataframe thead th {\n",
       "        text-align: right;\n",
       "    }\n",
       "</style>\n",
       "<table border=\"1\" class=\"dataframe\">\n",
       "  <thead>\n",
       "    <tr style=\"text-align: right;\">\n",
       "      <th></th>\n",
       "      <th>id</th>\n",
       "      <th>producto</th>\n",
       "      <th>cantidad</th>\n",
       "      <th>precio</th>\n",
       "    </tr>\n",
       "  </thead>\n",
       "  <tbody>\n",
       "    <tr>\n",
       "      <th>0</th>\n",
       "      <td>1</td>\n",
       "      <td>Manzanas</td>\n",
       "      <td>10</td>\n",
       "      <td>0.5</td>\n",
       "    </tr>\n",
       "    <tr>\n",
       "      <th>1</th>\n",
       "      <td>2</td>\n",
       "      <td>Naranjas</td>\n",
       "      <td>5</td>\n",
       "      <td>0.7</td>\n",
       "    </tr>\n",
       "    <tr>\n",
       "      <th>2</th>\n",
       "      <td>3</td>\n",
       "      <td>Peras</td>\n",
       "      <td>8</td>\n",
       "      <td>0.6</td>\n",
       "    </tr>\n",
       "  </tbody>\n",
       "</table>\n",
       "</div>"
      ],
      "text/plain": [
       "   id  producto  cantidad  precio\n",
       "0   1  Manzanas        10     0.5\n",
       "1   2  Naranjas         5     0.7\n",
       "2   3     Peras         8     0.6"
      ]
     },
     "execution_count": 11,
     "metadata": {},
     "output_type": "execute_result"
    }
   ],
   "source": [
    "pd.read_sql_query(\"SELECT * FROM ventas\", con=conn)"
   ]
  },
  {
   "cell_type": "code",
   "execution_count": 12,
   "id": "d40aa92c-f2ea-42a6-83db-4903e5e35e18",
   "metadata": {},
   "outputs": [
    {
     "name": "stderr",
     "output_type": "stream",
     "text": [
      "/tmp/ipykernel_236/1682562318.py:1: UserWarning: pandas only supports SQLAlchemy connectable (engine/connection) or database string URI or sqlite3 DBAPI2 connection. Other DBAPI2 objects are not tested. Please consider using SQLAlchemy.\n",
      "  pd.read_sql_query(\"SELECT * FROM ventas WHERE cantidad > 5\", con=conn)\n"
     ]
    },
    {
     "data": {
      "text/html": [
       "<div>\n",
       "<style scoped>\n",
       "    .dataframe tbody tr th:only-of-type {\n",
       "        vertical-align: middle;\n",
       "    }\n",
       "\n",
       "    .dataframe tbody tr th {\n",
       "        vertical-align: top;\n",
       "    }\n",
       "\n",
       "    .dataframe thead th {\n",
       "        text-align: right;\n",
       "    }\n",
       "</style>\n",
       "<table border=\"1\" class=\"dataframe\">\n",
       "  <thead>\n",
       "    <tr style=\"text-align: right;\">\n",
       "      <th></th>\n",
       "      <th>id</th>\n",
       "      <th>producto</th>\n",
       "      <th>cantidad</th>\n",
       "      <th>precio</th>\n",
       "    </tr>\n",
       "  </thead>\n",
       "  <tbody>\n",
       "    <tr>\n",
       "      <th>0</th>\n",
       "      <td>1</td>\n",
       "      <td>Manzanas</td>\n",
       "      <td>10</td>\n",
       "      <td>0.5</td>\n",
       "    </tr>\n",
       "    <tr>\n",
       "      <th>1</th>\n",
       "      <td>3</td>\n",
       "      <td>Peras</td>\n",
       "      <td>8</td>\n",
       "      <td>0.6</td>\n",
       "    </tr>\n",
       "  </tbody>\n",
       "</table>\n",
       "</div>"
      ],
      "text/plain": [
       "   id  producto  cantidad  precio\n",
       "0   1  Manzanas        10     0.5\n",
       "1   3     Peras         8     0.6"
      ]
     },
     "execution_count": 12,
     "metadata": {},
     "output_type": "execute_result"
    }
   ],
   "source": [
    "pd.read_sql_query(\"SELECT * FROM ventas WHERE cantidad > 5\", con=conn)"
   ]
  },
  {
   "cell_type": "code",
   "execution_count": 16,
   "id": "12ff3ced-127c-407e-9fef-fc9f66f8ee32",
   "metadata": {},
   "outputs": [
    {
     "name": "stderr",
     "output_type": "stream",
     "text": [
      "/tmp/ipykernel_236/3732189736.py:1: UserWarning: pandas only supports SQLAlchemy connectable (engine/connection) or database string URI or sqlite3 DBAPI2 connection. Other DBAPI2 objects are not tested. Please consider using SQLAlchemy.\n",
      "  pd.read_sql_query(\"SELECT * FROM ventas\", con=conn).plot(kind='bar', x='producto', y='cantidad', title=\"graficasa bro\")\n"
     ]
    },
    {
     "data": {
      "text/plain": [
       "<Axes: title={'center': 'graficasa bro'}, xlabel='producto'>"
      ]
     },
     "execution_count": 16,
     "metadata": {},
     "output_type": "execute_result"
    },
    {
     "data": {
      "image/png": "[encoded data removed]",
      "text/plain": [
       "<Figure size 640x480 with 1 Axes>"
      ]
     },
     "metadata": {},
     "output_type": "display_data"
    }
   ],
   "source": [
    "pd.read_sql_query(\"SELECT * FROM ventas\", con=conn).plot(kind='bar', x='producto', y='cantidad', title=\"graficasa bro\")"
   ]
  },
  {
   "cell_type": "code",
   "execution_count": null,
   "id": "c89aaee0-7633-420d-bd78-b207061c25bb",
   "metadata": {},
   "outputs": [],
   "source": []
  }
 ],
 "metadata": {
  "kernelspec": {
   "display_name": "Python 3 (ipykernel)",
   "language": "python",
   "name": "python3"
  },
  "language_info": {
   "codemirror_mode": {
    "name": "ipython",
    "version": 3
   },
   "file_extension": ".py",
   "mimetype": "text/x-python",
   "name": "python",
   "nbconvert_exporter": "python",
   "pygments_lexer": "ipython3",
   "version": "3.11.6"
  }
 },
 "nbformat": 4,
 "nbformat_minor": 5
}
